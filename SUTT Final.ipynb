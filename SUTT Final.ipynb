{
 "cells": [
  {
   "cell_type": "code",
   "execution_count": 1,
   "id": "4c360cbe-cd75-4662-9073-fc7baad3fa31",
   "metadata": {},
   "outputs": [],
   "source": [
    "import pandas as pd\n",
    "import json"
   ]
  },
  {
   "cell_type": "code",
   "execution_count": 89,
   "id": "1e2a9eb7-20f9-41f7-b0eb-cb8e79bb7c62",
   "metadata": {},
   "outputs": [],
   "source": [
    "df=pd.read_excel(\"Timetable Workbook - SUTT Task 1.xlsx\",sheet_name=\"S6\")"
   ]
  },
  {
   "cell_type": "code",
   "execution_count": 90,
   "id": "4d7b3501-bd1f-4df6-a38a-63e4677b7313",
   "metadata": {},
   "outputs": [
    {
     "name": "stdout",
     "output_type": "stream",
     "text": [
      "{'COURSE NO.': 'CHEM F111', 'COURSE TITLE': 'GENERAL CHEMISTRY', 'CREDIT': {'L': 3, 'P': '-', 'U': 3}, 'Sections': [[{'ROOM': 5105}, {'Number': 'L1'}, {'INSTRUCTOR-IN-CHARGE / Instructor': ['PARTHA SARATHI ADDY', 'Madhushree Sarkar', 'Rajeev Sakhuja']}, {'DAYS & HOURS': 'T Th F  4'}], [{'ROOM': 5105}, {'Number': 'L2'}, {'INSTRUCTOR-IN-CHARGE / Instructor': ['Partha Sarathi Addy', 'Madhushree Sarkar', 'Rajeev Sakhuja']}, {'DAYS & HOURS': 'T  7'}], [{'ROOM': 2204}, {'Number': 'T1'}, {'INSTRUCTOR-IN-CHARGE / Instructor': ['Paritosh Shukla']}, {'DAYS & HOURS': 'T  7'}], [{'ROOM': 6107}, {'Number': 'T2'}, {'INSTRUCTOR-IN-CHARGE / Instructor': ['Shamik Chakraborty']}, {'DAYS & HOURS': 'T  7'}], [{'ROOM': 6109}, {'Number': 'T3'}, {'INSTRUCTOR-IN-CHARGE / Instructor': ['Partha Sarathi Addy']}, {'DAYS & HOURS': 'T  7'}], [{'ROOM': 6160}, {'Number': 'T4'}, {'INSTRUCTOR-IN-CHARGE / Instructor': ['Ram Kinkar Roy']}, {'DAYS & HOURS': 'T  7'}], [{'ROOM': 6161}, {'Number': 'T5'}, {'INSTRUCTOR-IN-CHARGE / Instructor': ['Saumi Ray']}, {'DAYS & HOURS': 'Th  7'}], [{'ROOM': 6153}, {'Number': 'T6'}, {'INSTRUCTOR-IN-CHARGE / Instructor': ['Prashant Uday Manohar']}, {'DAYS & HOURS': 'Th  7'}], [{'ROOM': 2204}, {'Number': 'T7'}, {'INSTRUCTOR-IN-CHARGE / Instructor': ['Paritosh Shukla']}, {'DAYS & HOURS': 'Th  7'}], [{'ROOM': 6152}, {'Number': 'T8'}, {'INSTRUCTOR-IN-CHARGE / Instructor': ['Madhushree Sarkar']}, {'DAYS & HOURS': 'Th  7'}], [{'ROOM': 6163}, {'Number': 'T9'}, {'INSTRUCTOR-IN-CHARGE / Instructor': ['Inamur Rahaman Laskar']}, {'DAYS & HOURS': 'W  1'}], [{'ROOM': 6160}, {'Number': 'T10'}, {'INSTRUCTOR-IN-CHARGE / Instructor': ['Ram Kinkar Roy']}, {'DAYS & HOURS': 'W  1'}], [{'ROOM': 6161}, {'Number': 'T11'}, {'INSTRUCTOR-IN-CHARGE / Instructor': ['Saumi Ray']}, {'DAYS & HOURS': 'W  1'}], [{'ROOM': 6105}, {'Number': 'T12'}, {'INSTRUCTOR-IN-CHARGE / Instructor': ['Inamur Rahaman Laskar']}, {'ROOM': 6105}, {'DAYS & HOURS': 'W  1'}]], 'MIDSEM DATE & SESSION': '04/10 FN2', 'COMPRE DATE & SESSION': '05/12 AN'}\n"
     ]
    }
   ],
   "source": [
    "credit_temp=[]\n",
    "count=0  \n",
    "title_temp=[]\n",
    "column0_1=list(df[\"Unnamed: 1\"])\n",
    "column0_2=list(df[\"Unnamed: 2\"])\n",
    "column7=list(df[\"Unnamed: 3\"])\n",
    "column8=list(df[\"Unnamed: 4\"])\n",
    "column9=list(df[\"Unnamed: 5\"])\n",
    "column1=list(df[\"Unnamed: 6\"])\n",
    "column2=list(df[\"Unnamed: 7\"])\n",
    "column3=list(df[\"Unnamed: 8\"])\n",
    "column4=list(df[\"Unnamed: 9\"])\n",
    "column5=list(df[\"Unnamed: 10\"])\n",
    "column6=list(df[\"Unnamed: 11\"])\n",
    "sec=[]\n",
    "instructor_index=[] \n",
    "for i in range(2,len(column1)-1): #this loop will tell us the indices of a new section starts as there might be variable no. of profs in a course/tut\n",
    "           if (pd.isna(column1[i]))==False:\n",
    "               instructor_index.append(i)\n",
    "instructor_index.append(len(column1)-1) #appending the last index to get num of profs for the last section\n",
    "        #list storing all section lists\n",
    "for i in range(2,len(column1)):\n",
    "            diff=instructor_index[i-2:i] #gives a list for the indices of prof for the section\n",
    "            if ((len(diff))==2):\n",
    "              number={'Number': column1[diff[0]]} # Section No\n",
    "              instructors=({column2[0]:column2[diff[0]:diff[1]]}) #'instructors: [ins1,ins2]' - creating a list for the instructors\n",
    "              days_hours={column4[0]:column4[diff[1]]} #days and hours of the class\n",
    "              room_no={column3[0]:column3[diff[0]]} #roomno\n",
    "              sec.append([room_no,number,instructors,days_hours]) #this appends  a list of section details for a particular section\n",
    "            elif (len(diff)==1): #when there is only one prof and there is only one index in the diff\n",
    "              number={'Number': column1[diff[0]]}\n",
    "              instructors=({column2[0]:[column2[diff[0]]]}) #'instructors: [ins1,ins2]'\n",
    "              room_no={column3[0]:column3[diff[0]]}\n",
    "              days_hours={column4[0]:column4[diff[0]]}\n",
    "              sec.append([room_no,number,instructors,room_no,days_hours])\n",
    "final_dict={} \n",
    "final_dict[column0_1[0]]=column0_1[2] #courseno\n",
    "final_dict[column0_2[0]]=column0_2[2] #course title\n",
    "final_dict[column7[0]]={column7[1]:column7[2],column8[1]:column8[2],column9[1]:column9[2]} #credits\n",
    "final_dict[\"Sections\"]=sec #sections\n",
    "final_dict[column5[0]]=column5[2] #midsem date\n",
    "final_dict[column6[0]]=column6[2]#compre date\n",
    "print(final_dict)"
   ]
  },
  {
   "cell_type": "code",
   "execution_count": 78,
   "id": "9c43384f-28bc-4570-93b4-01aa32868979",
   "metadata": {},
   "outputs": [],
   "source": [
    "with open (\"GEN BIO.json\",\"w\") as f:\n",
    "    json.dump(final_dict,f)"
   ]
  },
  {
   "cell_type": "code",
   "execution_count": 82,
   "id": "3c534732-1a94-4473-a61d-dd4eeaa05b8c",
   "metadata": {},
   "outputs": [],
   "source": [
    "with open (\"THERMODYNAMICS.json\",\"w\") as f:\n",
    "    json.dump(final_dict,f)"
   ]
  },
  {
   "cell_type": "code",
   "execution_count": 85,
   "id": "9d3d24b8-52dd-4146-9bac-4ac4106227b9",
   "metadata": {},
   "outputs": [],
   "source": [
    "with open (\"TRW.json\",\"w\") as f:\n",
    "    json.dump(final_dict,f)"
   ]
  },
  {
   "cell_type": "code",
   "execution_count": 88,
   "id": "56151ee5-8236-4bd6-ad91-1c1c0baaf21b",
   "metadata": {},
   "outputs": [],
   "source": [
    "with open (\"CHEM LAB.json\",\"w\") as f:\n",
    "    json.dump(final_dict,f)"
   ]
  },
  {
   "cell_type": "code",
   "execution_count": 91,
   "id": "fb0b9897-f051-421a-a6fe-f7009d1c1527",
   "metadata": {},
   "outputs": [],
   "source": [
    "with open (\"GEN CHEM.json\",\"w\") as f:\n",
    "    json.dump(final_dict,f)"
   ]
  },
  {
   "cell_type": "code",
   "execution_count": null,
   "id": "0e8a2ff6-18df-4878-8f72-62b6fa0f3789",
   "metadata": {},
   "outputs": [],
   "source": []
  }
 ],
 "metadata": {
  "kernelspec": {
   "display_name": "Python 3 (ipykernel)",
   "language": "python",
   "name": "python3"
  },
  "language_info": {
   "codemirror_mode": {
    "name": "ipython",
    "version": 3
   },
   "file_extension": ".py",
   "mimetype": "text/x-python",
   "name": "python",
   "nbconvert_exporter": "python",
   "pygments_lexer": "ipython3",
   "version": "3.12.5"
  }
 },
 "nbformat": 4,
 "nbformat_minor": 5
}
